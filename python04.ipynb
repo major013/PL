{
 "cells": [
  {
   "cell_type": "code",
   "execution_count": 5,
   "id": "df2bc86f",
   "metadata": {},
   "outputs": [
    {
     "name": "stdout",
     "output_type": "stream",
     "text": [
      "{'國籍': ['美國', '英國', '德國', '日本', '紐西蘭'], '身高': ['162', '153', '188', '179', '168']}\n"
     ]
    }
   ],
   "source": [
    "d={\"國籍\":[\"美國\",\"英國\",\"德國\",\"日本\",\"紐西蘭\"],\n",
    "   \"身高\":[\"162\",\"153\",\"188\",\"179\",\"168\"]}\n",
    "\n",
    "print(d)"
   ]
  },
  {
   "cell_type": "code",
   "execution_count": 6,
   "id": "77a30d22",
   "metadata": {},
   "outputs": [
    {
     "name": "stdout",
     "output_type": "stream",
     "text": [
      "['國籍', '身高']\n",
      "[['美國', '英國', '德國', '日本', '紐西蘭'], ['162', '153', '188', '179', '168']]\n"
     ]
    }
   ],
   "source": [
    "N=list(d.keys())\n",
    "print(N)\n",
    "H=list(d.values())\n",
    "print(H)"
   ]
  },
  {
   "cell_type": "code",
   "execution_count": 7,
   "id": "76fe280d",
   "metadata": {},
   "outputs": [
    {
     "name": "stdout",
     "output_type": "stream",
     "text": [
      "紐西蘭\n"
     ]
    }
   ],
   "source": [
    "print(d[\"國籍\"][4])"
   ]
  },
  {
   "cell_type": "code",
   "execution_count": null,
   "id": "c3eecb99",
   "metadata": {},
   "outputs": [],
   "source": []
  }
 ],
 "metadata": {
  "kernelspec": {
   "display_name": "Python 3 (ipykernel)",
   "language": "python",
   "name": "python3"
  },
  "language_info": {
   "codemirror_mode": {
    "name": "ipython",
    "version": 3
   },
   "file_extension": ".py",
   "mimetype": "text/x-python",
   "name": "python",
   "nbconvert_exporter": "python",
   "pygments_lexer": "ipython3",
   "version": "3.9.12"
  }
 },
 "nbformat": 4,
 "nbformat_minor": 5
}
