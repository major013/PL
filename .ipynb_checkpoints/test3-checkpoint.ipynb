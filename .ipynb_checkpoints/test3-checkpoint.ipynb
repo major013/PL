{
 "cells": [
  {
   "cell_type": "markdown",
   "id": "7052fc32",
   "metadata": {},
   "source": [
    "##爬蟲：爬取女人迷網站中的文章標題"
   ]
  },
  {
   "cell_type": "code",
   "execution_count": 5,
   "id": "efa1330f",
   "metadata": {
    "scrolled": true
   },
   "outputs": [],
   "source": [
    "import urllib.request as req #抓取網頁原始碼(HTML)\n",
    "url = 'https://womany.net/interests/gender?ref=h-interest-5' #抓取的網站\n",
    "# 建立一個 Request 物件，附加 Request Headers 的資訊(看起來像人類)"
   ]
  },
  {
   "cell_type": "code",
   "execution_count": null,
   "id": "50ee9009",
   "metadata": {},
   "outputs": [],
   "source": []
  }
 ],
 "metadata": {
  "kernelspec": {
   "display_name": "Python 3 (ipykernel)",
   "language": "python",
   "name": "python3"
  },
  "language_info": {
   "codemirror_mode": {
    "name": "ipython",
    "version": 3
   },
   "file_extension": ".py",
   "mimetype": "text/x-python",
   "name": "python",
   "nbconvert_exporter": "python",
   "pygments_lexer": "ipython3",
   "version": "3.9.12"
  }
 },
 "nbformat": 4,
 "nbformat_minor": 5
}
