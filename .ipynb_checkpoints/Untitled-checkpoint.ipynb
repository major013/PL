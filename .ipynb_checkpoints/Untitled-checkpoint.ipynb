{
 "cells": [
  {
   "cell_type": "code",
   "execution_count": 1,
   "id": "007a6a26",
   "metadata": {},
   "outputs": [],
   "source": [
    "str1 ='刑法第二百八十四條第一項前段之過失傷害罪，法定刑為六月以下有期徒刑、拘役或五百元以下罰金'"
   ]
  },
  {
   "cell_type": "code",
   "execution_count": 2,
   "id": "6932b4bb",
   "metadata": {},
   "outputs": [
    {
     "data": {
      "text/plain": [
       "'刑法第二百八十四條第一項前段之過失傷害罪，法定刑為六月以下有期徒刑、拘役或五百元以下罰金'"
      ]
     },
     "execution_count": 2,
     "metadata": {},
     "output_type": "execute_result"
    }
   ],
   "source": [
    "str1"
   ]
  },
  {
   "cell_type": "code",
   "execution_count": 3,
   "id": "668516dd",
   "metadata": {},
   "outputs": [
    {
     "name": "stdout",
     "output_type": "stream",
     "text": [
      "刑法第二百八十四條第一項前段之過失傷害罪，法定刑為六月以下有期徒刑、拘役或五百元以下罰金\n"
     ]
    }
   ],
   "source": [
    "print(str1)"
   ]
  },
  {
   "cell_type": "code",
   "execution_count": null,
   "id": "dc51a3c3",
   "metadata": {},
   "outputs": [],
   "source": [
    "money='罰金'"
   ]
  }
 ],
 "metadata": {
  "kernelspec": {
   "display_name": "Python 3 (ipykernel)",
   "language": "python",
   "name": "python3"
  },
  "language_info": {
   "codemirror_mode": {
    "name": "ipython",
    "version": 3
   },
   "file_extension": ".py",
   "mimetype": "text/x-python",
   "name": "python",
   "nbconvert_exporter": "python",
   "pygments_lexer": "ipython3",
   "version": "3.9.12"
  }
 },
 "nbformat": 4,
 "nbformat_minor": 5
}
