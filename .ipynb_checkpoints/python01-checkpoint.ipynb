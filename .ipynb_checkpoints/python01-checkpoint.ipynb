{
 "cells": [
  {
   "cell_type": "code",
   "execution_count": 1,
   "id": "007a6a26",
   "metadata": {},
   "outputs": [],
   "source": [
    "str1 ='刑法第二百八十四條第一項前段之過失傷害罪，法定刑為六月以下有期徒刑、拘役或五百元以下罰金'"
   ]
  },
  {
   "cell_type": "code",
   "execution_count": 2,
   "id": "6932b4bb",
   "metadata": {},
   "outputs": [
    {
     "data": {
      "text/plain": [
       "'刑法第二百八十四條第一項前段之過失傷害罪，法定刑為六月以下有期徒刑、拘役或五百元以下罰金'"
      ]
     },
     "execution_count": 2,
     "metadata": {},
     "output_type": "execute_result"
    }
   ],
   "source": [
    "str1"
   ]
  },
  {
   "cell_type": "code",
   "execution_count": 3,
   "id": "668516dd",
   "metadata": {},
   "outputs": [
    {
     "name": "stdout",
     "output_type": "stream",
     "text": [
      "刑法第二百八十四條第一項前段之過失傷害罪，法定刑為六月以下有期徒刑、拘役或五百元以下罰金\n"
     ]
    }
   ],
   "source": [
    "print(str1)"
   ]
  },
  {
   "cell_type": "code",
   "execution_count": 4,
   "id": "dc51a3c3",
   "metadata": {},
   "outputs": [],
   "source": [
    "money = 500\n",
    "total_money = money"
   ]
  },
  {
   "cell_type": "code",
   "execution_count": 5,
   "id": "baa32a97",
   "metadata": {},
   "outputs": [
    {
     "name": "stdout",
     "output_type": "stream",
     "text": [
      "500\n"
     ]
    }
   ],
   "source": [
    "print(money)"
   ]
  },
  {
   "cell_type": "code",
   "execution_count": 6,
   "id": "8986cbe9",
   "metadata": {},
   "outputs": [
    {
     "name": "stdout",
     "output_type": "stream",
     "text": [
      "總罰鍰 500 元\n"
     ]
    }
   ],
   "source": [
    "print('總罰鍰',total_money,'元')"
   ]
  },
  {
   "cell_type": "code",
   "execution_count": 7,
   "id": "52938e8e",
   "metadata": {},
   "outputs": [],
   "source": [
    "str2 = '賠償總額為25688，判賠比例為被告：原告=7：3'"
   ]
  },
  {
   "cell_type": "code",
   "execution_count": 8,
   "id": "8aa5b748",
   "metadata": {},
   "outputs": [],
   "source": [
    "total_money=25688\n",
    "a_money=total_money*0.7\n",
    "b_money=total_money*0.3"
   ]
  },
  {
   "cell_type": "code",
   "execution_count": 9,
   "id": "592a49ed",
   "metadata": {},
   "outputs": [
    {
     "name": "stdout",
     "output_type": "stream",
     "text": [
      "被告負擔賠償金額 17981 元\n",
      "原告負擔賠償金額 7706 元\n"
     ]
    }
   ],
   "source": [
    "print('被告負擔賠償金額',int(a_money),'元')\n",
    "print('原告負擔賠償金額',int(b_money),'元')"
   ]
  },
  {
   "cell_type": "code",
   "execution_count": 11,
   "id": "c019f936",
   "metadata": {},
   "outputs": [
    {
     "name": "stdout",
     "output_type": "stream",
     "text": [
      "請輸入案件：原告闖紅燈\n",
      "原告多被告少\n"
     ]
    }
   ],
   "source": [
    "event=input('請輸入案件：')\n",
    "if event=='被告闖紅燈':\n",
    "    print('被賠100%')\n",
    "elif event=='原告闖紅燈':\n",
    "    print('原告多被告少')\n",
    "elif event=='被告原告皆闖紅燈':\n",
    "    print('原告50%被賠100%')\n",
    "else:\n",
    "    print('請填入有效訊息')"
   ]
  },
  {
   "cell_type": "code",
   "execution_count": null,
   "id": "79891d08",
   "metadata": {},
   "outputs": [],
   "source": []
  }
 ],
 "metadata": {
  "kernelspec": {
   "display_name": "Python 3 (ipykernel)",
   "language": "python",
   "name": "python3"
  },
  "language_info": {
   "codemirror_mode": {
    "name": "ipython",
    "version": 3
   },
   "file_extension": ".py",
   "mimetype": "text/x-python",
   "name": "python",
   "nbconvert_exporter": "python",
   "pygments_lexer": "ipython3",
   "version": "3.9.12"
  }
 },
 "nbformat": 4,
 "nbformat_minor": 5
}
