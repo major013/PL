{
 "cells": [
  {
   "cell_type": "markdown",
   "id": "c12c5d63",
   "metadata": {},
   "source": [
    "##爬蟲：爬取 眼底城事 網站中的文章標題"
   ]
  },
  {
   "cell_type": "code",
   "execution_count": 35,
   "id": "910a9660",
   "metadata": {},
   "outputs": [],
   "source": [
    "import urllib.request as req #抓取網頁原始碼(HTML)\n",
    "import json\n",
    "import pandas as pd\n",
    "\n",
    "#抓取的網站\n",
    "url = 'https://eyesonplace.net/category/allpost/' \n",
    "\n",
    "# 建立 Request 物件，附加 Request Headers(因為連線被拒絕，必須看起來像是人類)\n",
    "request = req.Request(url, headers = {\n",
    "    \"User-Agent\":'Mozilla/5.0 (Windows NT 10.0; Win64; x64) AppleWebKit/537.36 (KHTML, like Gecko) Chrome/106.0.0.0 Safari/537.36'\n",
    "})\n",
    "with req.urlopen(request) as response:\n",
    "    data = response.read().decode(\"utf-8\")"
   ]
  },
  {
   "cell_type": "code",
   "execution_count": 41,
   "id": "1694c2cc",
   "metadata": {
    "scrolled": true
   },
   "outputs": [],
   "source": [
    "#解析原始碼\n",
    "import bs4\n",
    "root = bs4.BeautifulSoup(data, \"html.parser\")\n",
    "\n",
    "#找網站中class 為 entry-title 的 h1 標籤\n",
    "titles = root.find_all(\"h1\", class_=\"entry-title\") "
   ]
  },
  {
   "cell_type": "markdown",
   "id": "fa58f107",
   "metadata": {},
   "source": [
    "####資料存成json檔"
   ]
  },
  {
   "cell_type": "code",
   "execution_count": 43,
   "id": "bcdae135",
   "metadata": {},
   "outputs": [
    {
     "name": "stdout",
     "output_type": "stream",
     "text": [
      "\"《進擊的社宅：社會居住新轉向》專題導言\"\n",
      "\"玩水作為水願景規劃的目標\"\n",
      "\"漂流木的奇幻旅程： 一場根植於低碳循環經濟的科技建造實驗\"\n",
      "\"在街上焚火吧！仙台車站前的18天封路大型社會實驗\"\n",
      "\"河流作為與自然和好的媒介\"\n",
      "\"我們的故鄉、我們的溪河\"\n",
      "\"河流作為防禦：城，壕溝，沼澤與火砲 – 訪談成功大學建築系黃恩宇副教授\"\n",
      "\"公有資產，公民審議！如何讓施洛德文學花園們不失落\"\n",
      "\"流域的策展學．關鍵帶的共同體\"\n"
     ]
    }
   ],
   "source": [
    "allti=[]\n",
    "for title in titles:\n",
    "    all=title.a.string\n",
    "    alla = json.dumps(all,ensure_ascii=False).encode('utf-8')\n",
    "    allb = alla.decode()\n",
    "    allti.append(allb)\n",
    "    print(allb)"
   ]
  },
  {
   "cell_type": "code",
   "execution_count": 56,
   "id": "d4580244",
   "metadata": {
    "scrolled": true
   },
   "outputs": [
    {
     "ename": "ValueError",
     "evalue": "I/O operation on closed file.",
     "output_type": "error",
     "traceback": [
      "\u001b[1;31m---------------------------------------------------------------------------\u001b[0m",
      "\u001b[1;31mValueError\u001b[0m                                Traceback (most recent call last)",
      "Input \u001b[1;32mIn [56]\u001b[0m, in \u001b[0;36m<cell line: 5>\u001b[1;34m()\u001b[0m\n\u001b[0;32m      3\u001b[0m allta[\u001b[38;5;124m'\u001b[39m\u001b[38;5;124m文章標題\u001b[39m\u001b[38;5;124m'\u001b[39m]\u001b[38;5;241m=\u001b[39mallti\n\u001b[0;32m      5\u001b[0m \u001b[38;5;28;01mwith\u001b[39;00m \u001b[38;5;28mopen\u001b[39m(\u001b[38;5;124m'\u001b[39m\u001b[38;5;124meyesonplace.json\u001b[39m\u001b[38;5;124m'\u001b[39m, \u001b[38;5;124m'\u001b[39m\u001b[38;5;124mw\u001b[39m\u001b[38;5;124m'\u001b[39m, encoding\u001b[38;5;241m=\u001b[39m\u001b[38;5;124m'\u001b[39m\u001b[38;5;124mutf-8\u001b[39m\u001b[38;5;124m'\u001b[39m) \u001b[38;5;28;01mas\u001b[39;00m file:\n\u001b[1;32m----> 6\u001b[0m     \u001b[43mjson\u001b[49m\u001b[38;5;241;43m.\u001b[39;49m\u001b[43mdump\u001b[49m\u001b[43m(\u001b[49m\u001b[43mallta\u001b[49m\u001b[43m,\u001b[49m\u001b[43m \u001b[49m\u001b[43mFile\u001b[49m\u001b[43m,\u001b[49m\u001b[43m \u001b[49m\u001b[43mensure_ascii\u001b[49m\u001b[38;5;241;43m=\u001b[39;49m\u001b[38;5;28;43;01mFalse\u001b[39;49;00m\u001b[43m)\u001b[49m\n",
      "File \u001b[1;32mC:\\ProgramData\\Anaconda3\\lib\\json\\__init__.py:180\u001b[0m, in \u001b[0;36mdump\u001b[1;34m(obj, fp, skipkeys, ensure_ascii, check_circular, allow_nan, cls, indent, separators, default, sort_keys, **kw)\u001b[0m\n\u001b[0;32m    177\u001b[0m \u001b[38;5;66;03m# could accelerate with writelines in some versions of Python, at\u001b[39;00m\n\u001b[0;32m    178\u001b[0m \u001b[38;5;66;03m# a debuggability cost\u001b[39;00m\n\u001b[0;32m    179\u001b[0m \u001b[38;5;28;01mfor\u001b[39;00m chunk \u001b[38;5;129;01min\u001b[39;00m iterable:\n\u001b[1;32m--> 180\u001b[0m     \u001b[43mfp\u001b[49m\u001b[38;5;241;43m.\u001b[39;49m\u001b[43mwrite\u001b[49m\u001b[43m(\u001b[49m\u001b[43mchunk\u001b[49m\u001b[43m)\u001b[49m\n",
      "\u001b[1;31mValueError\u001b[0m: I/O operation on closed file."
     ]
    }
   ],
   "source": [
    "#將資料放入 dict\n",
    "allta={}\n",
    "allta['文章標題']=allti\n",
    "\n",
    "with open('eyesonplace.json', 'w', encoding='utf-8') as file:\n",
    "    json.dump(allta, File, ensure_ascii=False)"
   ]
  },
  {
   "cell_type": "code",
   "execution_count": 52,
   "id": "c606c6e6",
   "metadata": {},
   "outputs": [
    {
     "data": {
      "text/html": [
       "<div>\n",
       "<style scoped>\n",
       "    .dataframe tbody tr th:only-of-type {\n",
       "        vertical-align: middle;\n",
       "    }\n",
       "\n",
       "    .dataframe tbody tr th {\n",
       "        vertical-align: top;\n",
       "    }\n",
       "\n",
       "    .dataframe thead th {\n",
       "        text-align: right;\n",
       "    }\n",
       "</style>\n",
       "<table border=\"1\" class=\"dataframe\">\n",
       "  <thead>\n",
       "    <tr style=\"text-align: right;\">\n",
       "      <th></th>\n",
       "      <th>文章標題</th>\n",
       "    </tr>\n",
       "  </thead>\n",
       "  <tbody>\n",
       "    <tr>\n",
       "      <th>0</th>\n",
       "      <td>\"《進擊的社宅：社會居住新轉向》專題導言\"</td>\n",
       "    </tr>\n",
       "    <tr>\n",
       "      <th>1</th>\n",
       "      <td>\"玩水作為水願景規劃的目標\"</td>\n",
       "    </tr>\n",
       "    <tr>\n",
       "      <th>2</th>\n",
       "      <td>\"漂流木的奇幻旅程： 一場根植於低碳循環經濟的科技建造實驗\"</td>\n",
       "    </tr>\n",
       "    <tr>\n",
       "      <th>3</th>\n",
       "      <td>\"在街上焚火吧！仙台車站前的18天封路大型社會實驗\"</td>\n",
       "    </tr>\n",
       "    <tr>\n",
       "      <th>4</th>\n",
       "      <td>\"河流作為與自然和好的媒介\"</td>\n",
       "    </tr>\n",
       "  </tbody>\n",
       "</table>\n",
       "</div>"
      ],
      "text/plain": [
       "                             文章標題\n",
       "0           \"《進擊的社宅：社會居住新轉向》專題導言\"\n",
       "1                  \"玩水作為水願景規劃的目標\"\n",
       "2  \"漂流木的奇幻旅程： 一場根植於低碳循環經濟的科技建造實驗\"\n",
       "3      \"在街上焚火吧！仙台車站前的18天封路大型社會實驗\"\n",
       "4                  \"河流作為與自然和好的媒介\""
      ]
     },
     "execution_count": 52,
     "metadata": {},
     "output_type": "execute_result"
    }
   ],
   "source": [
    "data_csv= pd.DataFrame(allta) \n",
    "data_csv.head()"
   ]
  },
  {
   "cell_type": "code",
   "execution_count": null,
   "id": "187eecac",
   "metadata": {},
   "outputs": [],
   "source": [
    "\n",
    "#將dict 轉成 json 檔\n",
    "allta_json=json.dumps(allta,ensure_ascii=False) \n",
    "allta_json"
   ]
  }
 ],
 "metadata": {
  "kernelspec": {
   "display_name": "Python 3 (ipykernel)",
   "language": "python",
   "name": "python3"
  },
  "language_info": {
   "codemirror_mode": {
    "name": "ipython",
    "version": 3
   },
   "file_extension": ".py",
   "mimetype": "text/x-python",
   "name": "python",
   "nbconvert_exporter": "python",
   "pygments_lexer": "ipython3",
   "version": "3.9.12"
  }
 },
 "nbformat": 4,
 "nbformat_minor": 5
}
