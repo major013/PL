{
 "cells": [
  {
   "cell_type": "markdown",
   "id": "c94967ff",
   "metadata": {},
   "source": [
    "##爬蟲：爬取 故事storystudio 網站中的文章標題"
   ]
  },
  {
   "cell_type": "code",
   "execution_count": 17,
   "id": "716c17ad",
   "metadata": {},
   "outputs": [],
   "source": [
    "import urllib.request as req #抓取網頁原始碼(HTML)\n",
    "url = 'https://storystudio.tw/' #抓取的網站\n",
    "\n",
    "# 建立 Request 物件，附加 Request Headers(因為連線被拒絕，必須看起來像是人類)\n",
    "request=req.Request(url, headers={\n",
    "    \"User-Agent\":'Mozilla/5.0 (Windows NT 10.0; Win64; x64) AppleWebKit/537.36 (KHTML, like Gecko) Chrome/106.0.0.0 Safari/537.36'\n",
    "})\n",
    "with req.urlopen(request) as response:\n",
    "    data=response.read().decode(\"utf-8\")"
   ]
  },
  {
   "cell_type": "code",
   "execution_count": null,
   "id": "62adff34",
   "metadata": {},
   "outputs": [],
   "source": [
    "#解析原始碼"
   ]
  },
  {
   "cell_type": "code",
   "execution_count": null,
   "id": "7c8d30b9",
   "metadata": {},
   "outputs": [],
   "source": []
  }
 ],
 "metadata": {
  "kernelspec": {
   "display_name": "Python 3 (ipykernel)",
   "language": "python",
   "name": "python3"
  },
  "language_info": {
   "codemirror_mode": {
    "name": "ipython",
    "version": 3
   },
   "file_extension": ".py",
   "mimetype": "text/x-python",
   "name": "python",
   "nbconvert_exporter": "python",
   "pygments_lexer": "ipython3",
   "version": "3.9.12"
  }
 },
 "nbformat": 4,
 "nbformat_minor": 5
}
