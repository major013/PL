{
 "cells": [
  {
   "cell_type": "markdown",
   "id": "c12c5d63",
   "metadata": {},
   "source": [
    "##爬蟲：爬取 眼底城事 網站中的文章標題"
   ]
  },
  {
   "cell_type": "code",
   "execution_count": 35,
   "id": "910a9660",
   "metadata": {},
   "outputs": [],
   "source": [
    "import urllib.request as req #抓取網頁原始碼(HTML)\n",
    "import json\n",
    "import pandas as pd\n",
    "\n",
    "#抓取的網站\n",
    "url = 'https://eyesonplace.net/category/allpost/' \n",
    "\n",
    "# 建立 Request 物件，附加 Request Headers(因為連線被拒絕，必須看起來像是人類)\n",
    "request = req.Request(url, headers = {\n",
    "    \"User-Agent\":'Mozilla/5.0 (Windows NT 10.0; Win64; x64) AppleWebKit/537.36 (KHTML, like Gecko) Chrome/106.0.0.0 Safari/537.36'\n",
    "})\n",
    "with req.urlopen(request) as response:\n",
    "    data = response.read().decode(\"utf-8\")"
   ]
  },
  {
   "cell_type": "code",
   "execution_count": 41,
   "id": "1694c2cc",
   "metadata": {
    "scrolled": true
   },
   "outputs": [],
   "source": [
    "#解析原始碼\n",
    "import bs4\n",
    "root = bs4.BeautifulSoup(data, \"html.parser\")\n",
    "\n",
    "#找網站中class 為 entry-title 的 h1 標籤\n",
    "titles = root.find_all(\"h1\", class_=\"entry-title\") "
   ]
  },
  {
   "cell_type": "markdown",
   "id": "fa58f107",
   "metadata": {},
   "source": [
    "####資料存成CSV檔、json檔"
   ]
  },
  {
   "cell_type": "code",
   "execution_count": 43,
   "id": "bcdae135",
   "metadata": {},
   "outputs": [
    {
     "name": "stdout",
     "output_type": "stream",
     "text": [
      "\"《進擊的社宅：社會居住新轉向》專題導言\"\n",
      "\"玩水作為水願景規劃的目標\"\n",
      "\"漂流木的奇幻旅程： 一場根植於低碳循環經濟的科技建造實驗\"\n",
      "\"在街上焚火吧！仙台車站前的18天封路大型社會實驗\"\n",
      "\"河流作為與自然和好的媒介\"\n",
      "\"我們的故鄉、我們的溪河\"\n",
      "\"河流作為防禦：城，壕溝，沼澤與火砲 – 訪談成功大學建築系黃恩宇副教授\"\n",
      "\"公有資產，公民審議！如何讓施洛德文學花園們不失落\"\n",
      "\"流域的策展學．關鍵帶的共同體\"\n"
     ]
    }
   ],
   "source": [
    "allti=[]\n",
    "for title in titles:\n",
    "    all=title.a.string\n",
    "    alla = json.dumps(all,ensure_ascii=False).encode('utf-8')\n",
    "    allb = alla.decode()\n",
    "    allti.append(allb)\n",
    "    print(allb)"
   ]
  },
  {
   "cell_type": "code",
   "execution_count": 61,
   "id": "16cfb3e3",
   "metadata": {
    "scrolled": true
   },
   "outputs": [
    {
     "data": {
      "text/plain": [
       "{'文章標題': ['\"《進擊的社宅：社會居住新轉向》專題導言\"',\n",
       "  '\"玩水作為水願景規劃的目標\"',\n",
       "  '\"漂流木的奇幻旅程： 一場根植於低碳循環經濟的科技建造實驗\"',\n",
       "  '\"在街上焚火吧！仙台車站前的18天封路大型社會實驗\"',\n",
       "  '\"河流作為與自然和好的媒介\"',\n",
       "  '\"我們的故鄉、我們的溪河\"',\n",
       "  '\"河流作為防禦：城，壕溝，沼澤與火砲 – 訪談成功大學建築系黃恩宇副教授\"',\n",
       "  '\"公有資產，公民審議！如何讓施洛德文學花園們不失落\"',\n",
       "  '\"流域的策展學．關鍵帶的共同體\"']}"
      ]
     },
     "execution_count": 61,
     "metadata": {},
     "output_type": "execute_result"
    }
   ],
   "source": [
    "#將資料放入 dict\n",
    "eyesonplace={}\n",
    "eyesonplace['文章標題']=allti\n",
    "\n",
    "#將dict 轉成 json 檔\n",
    "eyesonplace_json=json.dumps(eyesonplace,ensure_ascii=False) \n",
    "eyesonplace"
   ]
  },
  {
   "cell_type": "code",
   "execution_count": 64,
   "id": "adb5ca58",
   "metadata": {},
   "outputs": [
    {
     "data": {
      "text/html": [
       "<div>\n",
       "<style scoped>\n",
       "    .dataframe tbody tr th:only-of-type {\n",
       "        vertical-align: middle;\n",
       "    }\n",
       "\n",
       "    .dataframe tbody tr th {\n",
       "        vertical-align: top;\n",
       "    }\n",
       "\n",
       "    .dataframe thead th {\n",
       "        text-align: right;\n",
       "    }\n",
       "</style>\n",
       "<table border=\"1\" class=\"dataframe\">\n",
       "  <thead>\n",
       "    <tr style=\"text-align: right;\">\n",
       "      <th></th>\n",
       "      <th>文章標題</th>\n",
       "    </tr>\n",
       "  </thead>\n",
       "  <tbody>\n",
       "    <tr>\n",
       "      <th>0</th>\n",
       "      <td>\"《進擊的社宅：社會居住新轉向》專題導言\"</td>\n",
       "    </tr>\n",
       "    <tr>\n",
       "      <th>1</th>\n",
       "      <td>\"玩水作為水願景規劃的目標\"</td>\n",
       "    </tr>\n",
       "    <tr>\n",
       "      <th>2</th>\n",
       "      <td>\"漂流木的奇幻旅程： 一場根植於低碳循環經濟的科技建造實驗\"</td>\n",
       "    </tr>\n",
       "    <tr>\n",
       "      <th>3</th>\n",
       "      <td>\"在街上焚火吧！仙台車站前的18天封路大型社會實驗\"</td>\n",
       "    </tr>\n",
       "    <tr>\n",
       "      <th>4</th>\n",
       "      <td>\"河流作為與自然和好的媒介\"</td>\n",
       "    </tr>\n",
       "    <tr>\n",
       "      <th>5</th>\n",
       "      <td>\"我們的故鄉、我們的溪河\"</td>\n",
       "    </tr>\n",
       "    <tr>\n",
       "      <th>6</th>\n",
       "      <td>\"河流作為防禦：城，壕溝，沼澤與火砲 – 訪談成功大學建築系黃恩宇副教授\"</td>\n",
       "    </tr>\n",
       "    <tr>\n",
       "      <th>7</th>\n",
       "      <td>\"公有資產，公民審議！如何讓施洛德文學花園們不失落\"</td>\n",
       "    </tr>\n",
       "    <tr>\n",
       "      <th>8</th>\n",
       "      <td>\"流域的策展學．關鍵帶的共同體\"</td>\n",
       "    </tr>\n",
       "  </tbody>\n",
       "</table>\n",
       "</div>"
      ],
      "text/plain": [
       "                                    文章標題\n",
       "0                  \"《進擊的社宅：社會居住新轉向》專題導言\"\n",
       "1                         \"玩水作為水願景規劃的目標\"\n",
       "2         \"漂流木的奇幻旅程： 一場根植於低碳循環經濟的科技建造實驗\"\n",
       "3             \"在街上焚火吧！仙台車站前的18天封路大型社會實驗\"\n",
       "4                         \"河流作為與自然和好的媒介\"\n",
       "5                          \"我們的故鄉、我們的溪河\"\n",
       "6  \"河流作為防禦：城，壕溝，沼澤與火砲 – 訪談成功大學建築系黃恩宇副教授\"\n",
       "7             \"公有資產，公民審議！如何讓施洛德文學花園們不失落\"\n",
       "8                       \"流域的策展學．關鍵帶的共同體\""
      ]
     },
     "execution_count": 64,
     "metadata": {},
     "output_type": "execute_result"
    }
   ],
   "source": [
    "#將dict 轉成 DataFrame\n",
    "eyesonplace = pd.DataFrame(allta) \n",
    "eyesonplace"
   ]
  },
  {
   "cell_type": "code",
   "execution_count": null,
   "id": "14751112",
   "metadata": {},
   "outputs": [],
   "source": [
    "\n",
    "#將dict 轉成 json 檔\n",
    "allta_json=json.dumps(allta,ensure_ascii=False) \n",
    "allta_json"
   ]
  }
 ],
 "metadata": {
  "kernelspec": {
   "display_name": "Python 3 (ipykernel)",
   "language": "python",
   "name": "python3"
  },
  "language_info": {
   "codemirror_mode": {
    "name": "ipython",
    "version": 3
   },
   "file_extension": ".py",
   "mimetype": "text/x-python",
   "name": "python",
   "nbconvert_exporter": "python",
   "pygments_lexer": "ipython3",
   "version": "3.9.12"
  }
 },
 "nbformat": 4,
 "nbformat_minor": 5
}
