{
 "cells": [
  {
   "cell_type": "code",
   "execution_count": 8,
   "id": "749a01e4",
   "metadata": {},
   "outputs": [],
   "source": [
    "import json"
   ]
  },
  {
   "cell_type": "code",
   "execution_count": 9,
   "id": "8ef40658",
   "metadata": {
    "scrolled": true
   },
   "outputs": [],
   "source": [
    "test = open('ntnu.json',encoding=\"utf8\")\n",
    "data = json.load(test) #讀入資料"
   ]
  },
  {
   "cell_type": "code",
   "execution_count": 10,
   "id": "9933adca",
   "metadata": {
    "scrolled": true
   },
   "outputs": [
    {
     "data": {
      "text/plain": [
       "dict"
      ]
     },
     "execution_count": 10,
     "metadata": {},
     "output_type": "execute_result"
    }
   ],
   "source": [
    "type(data) #確認資料類型"
   ]
  },
  {
   "cell_type": "code",
   "execution_count": 11,
   "id": "ecce74e4",
   "metadata": {},
   "outputs": [
    {
     "data": {
      "text/plain": [
       "dict_items([('師大', [{'科系': '教育學系', '等級': 'B 學士', '學生總計': 258, '男生計': 85, '女生計': 173}, {'科系': '特殊教育學系', '等級': 'B 學士', '學生總計': 166, '男生計': 34, '女生計': 132}, {'科系': '學習科學學士學位學程', '等級': 'B 學士', '學生總計': 70, '男生計': 31, '女生計': 39}, {'科系': '學士後學位學程教保員專班', '等級': 'B 學士', '學生總計': 36, '男生計': 1, '女生計': 35}, {'科系': '公民教育與活動領導學系', '等級': 'B 學士', '學生總計': 367, '男生計': 136, '女生計': 231}, {'科系': '社會教育學系', '等級': 'B 學士', '學生總計': 221, '男生計': 52, '女生計': 169}, {'科系': '健康促進與衛生教育學系', '等級': 'B 學士', '學生總計': 178, '男生計': 41, '女生計': 137}, {'科系': '人類發展與家庭學系', '等級': 'B 學士', '學生總計': 300, '男生計': 47, '女生計': 253}, {'科系': '工業教育學系', '等級': 'B 學士', '學生總計': 126, '男生計': 112, '女生計': 14}, {'科系': '體育與運動科學系', '等級': 'B 學士', '學生總計': 255, '男生計': 147, '女生計': 108}, {'科系': '教育學院學士班', '等級': 'B 學士', '學生總計': 46, '男生計': 16, '女生計': 30}, {'科系': '科技應用與人力資源發展學系', '等級': 'B 學士', '學生總計': 239, '男生計': 130, '女生計': 109}, {'科系': '設計學系', '等級': 'B 學士', '學生總計': 165, '男生計': 44, '女生計': 121}, {'科系': '美術學系', '等級': 'B 學士', '學生總計': 195, '男生計': 54, '女生計': 141}, {'科系': '音樂學系', '等級': 'B 學士', '學生總計': 274, '男生計': 68, '女生計': 206}, {'科系': '表演藝術學士學位學程', '等級': 'B 學士', '學生總計': 88, '男生計': 20, '女生計': 68}, {'科系': '歷史學系', '等級': 'B 學士', '學生總計': 239, '男生計': 130, '女生計': 109}, {'科系': '英語學系', '等級': 'B 學士', '學生總計': 326, '男生計': 89, '女生計': 237}, {'科系': '華語文教學系', '等級': 'B 學士', '學生總計': 416, '男生計': 84, '女生計': 332}, {'科系': '臺灣語文學系', '等級': 'B 學士', '學生總計': 92, '男生計': 35, '女生計': 57}, {'科系': '國文學系', '等級': 'B 學士', '學生總計': 441, '男生計': 119, '女生計': 322}, {'科系': '教育心理與輔導學系', '等級': 'B 學士', '學生總計': 183, '男生計': 55, '女生計': 128}, {'科系': '地理學系', '等級': 'B 學士', '學生總計': 332, '男生計': 175, '女生計': 157}, {'科系': '東亞學系', '等級': 'B 學士', '學生總計': 223, '男生計': 62, '女生計': 161}, {'科系': '圖文傳播學系', '等級': 'B 學士', '學生總計': 192, '男生計': 42, '女生計': 150}, {'科系': '企業管理學系', '等級': 'B 學士', '學生總計': 241, '男生計': 78, '女生計': 163}, {'科系': '生命科學系', '等級': 'B 學士', '學生總計': 250, '男生計': 124, '女生計': 126}, {'科系': '營養科學學士學位學程', '等級': 'B 學士', '學生總計': 127, '男生計': 39, '女生計': 88}, {'科系': '化學系', '等級': 'B 學士', '學生總計': 317, '男生計': 199, '女生計': 118}, {'科系': '地球科學系', '等級': 'B 學士', '學生總計': 169, '男生計': 109, '女生計': 60}, {'科系': '物理學系', '等級': 'B 學士', '學生總計': 269, '男生計': 226, '女生計': 43}, {'科系': '數學系', '等級': 'B 學士', '學生總計': 378, '男生計': 299, '女生計': 79}, {'科系': '資訊工程學系', '等級': 'B 學士', '學生總計': 237, '男生計': 181, '女生計': 56}, {'科系': '電機工程學系', '等級': 'B 學士', '學生總計': 199, '男生計': 154, '女生計': 45}, {'科系': '光電工程學士學位學程', '等級': 'B 學士', '學生總計': 67, '男生計': 45, '女生計': 22}, {'科系': '機電工程學系智能鑄造產學攜手專班', '等級': 'B 學士', '學生總計': 34, '男生計': 30, '女生計': 4}, {'科系': '機電工程學系', '等級': 'B 學士', '學生總計': 210, '男生計': 185, '女生計': 25}, {'科系': '車輛與能源工程學士學位學程', '等級': 'B 學士', '學生總計': 96, '男生計': 92, '女生計': 4}, {'科系': '運動競技學系', '等級': 'B 學士', '學生總計': 291, '男生計': 153, '女生計': 138}])])"
      ]
     },
     "execution_count": 11,
     "metadata": {},
     "output_type": "execute_result"
    }
   ],
   "source": [
    "data.items()"
   ]
  },
  {
   "cell_type": "code",
   "execution_count": 12,
   "id": "0d306566",
   "metadata": {
    "scrolled": true
   },
   "outputs": [],
   "source": [
    "de = data.get(\"ntnu\")\n",
    "de"
   ]
  },
  {
   "cell_type": "code",
   "execution_count": 13,
   "id": "0015be41",
   "metadata": {
    "scrolled": false
   },
   "outputs": [],
   "source": [
    "ask = '運動競技系'"
   ]
  },
  {
   "cell_type": "code",
   "execution_count": 15,
   "id": "e0b81c84",
   "metadata": {},
   "outputs": [
    {
     "ename": "TypeError",
     "evalue": "'NoneType' object is not iterable",
     "output_type": "error",
     "traceback": [
      "\u001b[1;31m---------------------------------------------------------------------------\u001b[0m",
      "\u001b[1;31mTypeError\u001b[0m                                 Traceback (most recent call last)",
      "Input \u001b[1;32mIn [15]\u001b[0m, in \u001b[0;36m<cell line: 1>\u001b[1;34m()\u001b[0m\n\u001b[1;32m----> 1\u001b[0m \u001b[38;5;28;01mfor\u001b[39;00m i \u001b[38;5;129;01min\u001b[39;00m de:\n\u001b[0;32m      2\u001b[0m     \u001b[38;5;28;01mif\u001b[39;00m ask \u001b[38;5;241m==\u001b[39m i\u001b[38;5;241m.\u001b[39mget(\u001b[38;5;124m'\u001b[39m\u001b[38;5;124m科系\u001b[39m\u001b[38;5;124m'\u001b[39m):\n\u001b[0;32m      3\u001b[0m         \u001b[38;5;28mprint\u001b[39m(ask, \u001b[38;5;124m'\u001b[39m\u001b[38;5;124m有\u001b[39m\u001b[38;5;124m'\u001b[39m, i\u001b[38;5;241m.\u001b[39mget(\u001b[38;5;124m'\u001b[39m\u001b[38;5;124m學生總計\u001b[39m\u001b[38;5;124m'\u001b[39m), \u001b[38;5;124m'\u001b[39m\u001b[38;5;124m個學生\u001b[39m\u001b[38;5;124m'\u001b[39m)\n",
      "\u001b[1;31mTypeError\u001b[0m: 'NoneType' object is not iterable"
     ]
    }
   ],
   "source": [
    "for i in de:\n",
    "    if ask == i.get('科系'):\n",
    "        print(ask, '有', i.get('學生總計'), '個學生')    "
   ]
  },
  {
   "cell_type": "code",
   "execution_count": 16,
   "id": "adf06ea6",
   "metadata": {},
   "outputs": [
    {
     "ename": "TypeError",
     "evalue": "'NoneType' object is not iterable",
     "output_type": "error",
     "traceback": [
      "\u001b[1;31m---------------------------------------------------------------------------\u001b[0m",
      "\u001b[1;31mTypeError\u001b[0m                                 Traceback (most recent call last)",
      "Input \u001b[1;32mIn [16]\u001b[0m, in \u001b[0;36m<cell line: 2>\u001b[1;34m()\u001b[0m\n\u001b[0;32m      1\u001b[0m \u001b[38;5;28mall\u001b[39m \u001b[38;5;241m=\u001b[39m []\n\u001b[1;32m----> 2\u001b[0m \u001b[38;5;28;01mfor\u001b[39;00m i \u001b[38;5;129;01min\u001b[39;00m de:\n\u001b[0;32m      3\u001b[0m     \u001b[38;5;28mall\u001b[39m\u001b[38;5;241m.\u001b[39mappend(i\u001b[38;5;241m.\u001b[39mget(\u001b[38;5;124m'\u001b[39m\u001b[38;5;124m學生總計\u001b[39m\u001b[38;5;124m'\u001b[39m))\n\u001b[0;32m      5\u001b[0m \u001b[38;5;28mall\u001b[39m\n",
      "\u001b[1;31mTypeError\u001b[0m: 'NoneType' object is not iterable"
     ]
    }
   ],
   "source": [
    "all = []\n",
    "for i in de:\n",
    "    all.append(i.get('學生總計'))\n",
    "    \n",
    "all #排序學生總計"
   ]
  },
  {
   "cell_type": "code",
   "execution_count": 17,
   "id": "068f0a60",
   "metadata": {},
   "outputs": [
    {
     "data": {
      "text/plain": [
       "[]"
      ]
     },
     "execution_count": 17,
     "metadata": {},
     "output_type": "execute_result"
    }
   ],
   "source": [
    "all_enumerate = enumerate(all, start = 1)\n",
    "all_enumerate_sorted = sorted(all_enumerate, key = lambda s: s[1], reverse = True)\n",
    "\n",
    "all_enumerate_sorted #排序學生總數多到少"
   ]
  },
  {
   "cell_type": "code",
   "execution_count": 18,
   "id": "d43eba8d",
   "metadata": {},
   "outputs": [],
   "source": [
    "for i in all_enumerate_sorted:\n",
    "    j = i[0] - 1\n",
    "    print(de[j].get('科系'), '有', de[j].get('學生總計'), '個學生')"
   ]
  },
  {
   "cell_type": "code",
   "execution_count": 19,
   "id": "4ad9363e",
   "metadata": {},
   "outputs": [
    {
     "ename": "TypeError",
     "evalue": "'NoneType' object is not iterable",
     "output_type": "error",
     "traceback": [
      "\u001b[1;31m---------------------------------------------------------------------------\u001b[0m",
      "\u001b[1;31mTypeError\u001b[0m                                 Traceback (most recent call last)",
      "Input \u001b[1;32mIn [19]\u001b[0m, in \u001b[0;36m<cell line: 2>\u001b[1;34m()\u001b[0m\n\u001b[0;32m      1\u001b[0m allw \u001b[38;5;241m=\u001b[39m []\n\u001b[1;32m----> 2\u001b[0m \u001b[38;5;28;01mfor\u001b[39;00m i \u001b[38;5;129;01min\u001b[39;00m de:\n\u001b[0;32m      3\u001b[0m     allw\u001b[38;5;241m.\u001b[39mappend(i\u001b[38;5;241m.\u001b[39mget(\u001b[38;5;124m'\u001b[39m\u001b[38;5;124m女生計\u001b[39m\u001b[38;5;124m'\u001b[39m))\n\u001b[0;32m      5\u001b[0m allw\n",
      "\u001b[1;31mTypeError\u001b[0m: 'NoneType' object is not iterable"
     ]
    }
   ],
   "source": [
    "allw = []\n",
    "for i in de:\n",
    "    allw.append(i.get('女生計'))\n",
    "    \n",
    "allw #排序女生總計"
   ]
  },
  {
   "cell_type": "code",
   "execution_count": 20,
   "id": "2f88f9e7",
   "metadata": {},
   "outputs": [
    {
     "data": {
      "text/plain": [
       "[]"
      ]
     },
     "execution_count": 20,
     "metadata": {},
     "output_type": "execute_result"
    }
   ],
   "source": [
    "allw_enumerate = enumerate(allw, start = 1)\n",
    "allw_enumerate_sorted = sorted(allw_enumerate, key = lambda s: s[1], reverse = True)\n",
    "\n",
    "allw_enumerate_sorted #排序女生總數多到少"
   ]
  },
  {
   "cell_type": "code",
   "execution_count": 21,
   "id": "c5ee25df",
   "metadata": {},
   "outputs": [],
   "source": [
    "for i in allw_enumerate_sorted:\n",
    "    j = i[0] - 1\n",
    "    print(de[j].get('科系'), '有', de[j].get('女生計'), '個女生')"
   ]
  },
  {
   "cell_type": "code",
   "execution_count": 22,
   "id": "032d60fc",
   "metadata": {},
   "outputs": [
    {
     "ename": "TypeError",
     "evalue": "'NoneType' object is not iterable",
     "output_type": "error",
     "traceback": [
      "\u001b[1;31m---------------------------------------------------------------------------\u001b[0m",
      "\u001b[1;31mTypeError\u001b[0m                                 Traceback (most recent call last)",
      "Input \u001b[1;32mIn [22]\u001b[0m, in \u001b[0;36m<cell line: 2>\u001b[1;34m()\u001b[0m\n\u001b[0;32m      1\u001b[0m allm \u001b[38;5;241m=\u001b[39m []\n\u001b[1;32m----> 2\u001b[0m \u001b[38;5;28;01mfor\u001b[39;00m i \u001b[38;5;129;01min\u001b[39;00m de:\n\u001b[0;32m      3\u001b[0m     allm\u001b[38;5;241m.\u001b[39mappend(i\u001b[38;5;241m.\u001b[39mget(\u001b[38;5;124m'\u001b[39m\u001b[38;5;124m男生計\u001b[39m\u001b[38;5;124m'\u001b[39m))\n\u001b[0;32m      5\u001b[0m allm\n",
      "\u001b[1;31mTypeError\u001b[0m: 'NoneType' object is not iterable"
     ]
    }
   ],
   "source": [
    "allm = []\n",
    "for i in de:\n",
    "    allm.append(i.get('男生計'))\n",
    "    \n",
    "allm #排序男生總計"
   ]
  },
  {
   "cell_type": "code",
   "execution_count": 23,
   "id": "993fbe14",
   "metadata": {},
   "outputs": [
    {
     "data": {
      "text/plain": [
       "[]"
      ]
     },
     "execution_count": 23,
     "metadata": {},
     "output_type": "execute_result"
    }
   ],
   "source": [
    "allm_enumerate = enumerate(allm, start = 1)\n",
    "allm_enumerate_sorted = sorted(allm_enumerate, key = lambda s: s[1], reverse = True)\n",
    "\n",
    "allm_enumerate_sorted #排序男生總數多到少"
   ]
  },
  {
   "cell_type": "code",
   "execution_count": 24,
   "id": "cb4accc0",
   "metadata": {},
   "outputs": [],
   "source": [
    "for i in allm_enumerate_sorted:\n",
    "    j = i[0] - 1\n",
    "    print(de[j].get('科系'), '有', de[j].get('男生計'), '個男生')"
   ]
  },
  {
   "cell_type": "code",
   "execution_count": null,
   "id": "c598bd35",
   "metadata": {},
   "outputs": [],
   "source": []
  },
  {
   "cell_type": "code",
   "execution_count": null,
   "id": "1b13f735",
   "metadata": {},
   "outputs": [],
   "source": []
  },
  {
   "cell_type": "code",
   "execution_count": null,
   "id": "247e7bcf",
   "metadata": {},
   "outputs": [],
   "source": []
  },
  {
   "cell_type": "code",
   "execution_count": null,
   "id": "7579a7f3",
   "metadata": {},
   "outputs": [],
   "source": []
  }
 ],
 "metadata": {
  "kernelspec": {
   "display_name": "Python 3 (ipykernel)",
   "language": "python",
   "name": "python3"
  },
  "language_info": {
   "codemirror_mode": {
    "name": "ipython",
    "version": 3
   },
   "file_extension": ".py",
   "mimetype": "text/x-python",
   "name": "python",
   "nbconvert_exporter": "python",
   "pygments_lexer": "ipython3",
   "version": "3.9.12"
  }
 },
 "nbformat": 4,
 "nbformat_minor": 5
}
